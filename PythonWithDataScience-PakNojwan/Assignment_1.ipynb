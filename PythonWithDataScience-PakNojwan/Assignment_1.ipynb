{
  "cells": [
    {
      "cell_type": "markdown",
      "metadata": {
        "id": "WTl6DuUNibXq"
      },
      "source": [
        "## **Assignment 1**"
      ]
    },
    {
      "cell_type": "markdown",
      "metadata": {
        "id": "Tfhep1P1gYkO"
      },
      "source": [
        "1. Write a Python program to print the following string in a specific format (see the output). \n",
        "\n",
        "        Twinkle, twinkle, little star,\n",
        "            How I wonder what you are!\n",
        "              Up above the world so high,\n",
        "              Like a diamond in the sky.\n",
        "       Twinkle, twinkle, little star,\n",
        "            How I wonder what you are!\n"
      ]
    },
    {
      "cell_type": "markdown",
      "metadata": {
        "id": "ak8hetobhj0c"
      },
      "source": [
        "**Print With Multi lines**\n",
        "---\n",
        "\n"
      ]
    },
    {
      "cell_type": "code",
      "execution_count": null,
      "metadata": {
        "colab": {
          "base_uri": "https://localhost:8080/"
        },
        "id": "jVCgXT2rgdOO",
        "outputId": "70432d90-8abc-439a-e1ff-d7cdd0c1da40"
      },
      "outputs": [
        {
          "name": "stdout",
          "output_type": "stream",
          "text": [
            "Twinkle, twinkle, little star,\n",
            "\n",
            "\tHow I wonder what you are!\n",
            "\n",
            "\t\tUp above the world so high,\n",
            "\n",
            "\t\tLike a diamond in the sky.\n",
            "Twinkle, twinkle, little star,\n",
            "\n",
            "\tHow I wonder what you are!\n"
          ]
        }
      ],
      "source": [
        "print(\"Twinkle, twinkle, little star,\")\n",
        "print(\"\\n\\tHow I wonder what you are!\")\n",
        "print(\"\\n\\t\\tUp above the world so high,\")\n",
        "print(\"\\n\\t\\tLike a diamond in the sky.\")\n",
        "print(\"Twinkle, twinkle, little star,\")\n",
        "print(\"\\n\\tHow I wonder what you are!\")"
      ]
    },
    {
      "cell_type": "markdown",
      "metadata": {
        "id": "okFfD-Nvh1wB"
      },
      "source": [
        "**Print With Single line**\n",
        "---\n",
        "\n"
      ]
    },
    {
      "cell_type": "code",
      "execution_count": null,
      "metadata": {
        "colab": {
          "base_uri": "https://localhost:8080/"
        },
        "id": "Sy3AcREVh4J1",
        "outputId": "20adaa02-6e75-4f1b-ffe0-437021db3d1c"
      },
      "outputs": [
        {
          "name": "stdout",
          "output_type": "stream",
          "text": [
            "Twinkle, twinkle, little star,\n",
            "\tHow I wonder what you are!\n",
            "\t\tUp above the world so high,\n",
            "\t\tLike a diamond in the sky.\n",
            "Twinkle, twinkle, little star,\n",
            "\tHow I wonder what you are!\n"
          ]
        }
      ],
      "source": [
        "print(\"Twinkle, twinkle, little star,\\n\\tHow I wonder what you are!\\n\\t\\tUp above the world so high,\\n\\t\\tLike a diamond in the sky.\\nTwinkle, twinkle, little star,\\n\\tHow I wonder what you are!\")"
      ]
    },
    {
      "cell_type": "markdown",
      "metadata": {
        "id": "lXy93fiIiqFx"
      },
      "source": [
        "2. Write a Python program to get the Python version you are using "
      ]
    },
    {
      "cell_type": "code",
      "execution_count": null,
      "metadata": {
        "colab": {
          "base_uri": "https://localhost:8080/"
        },
        "id": "tRVEoYn5jAjF",
        "outputId": "bdd7fe90-2419-46c3-940b-73514d536c99"
      },
      "outputs": [
        {
          "name": "stdout",
          "output_type": "stream",
          "text": [
            "3.7.12 (default, Sep 10 2021, 00:21:48) \n",
            "[GCC 7.5.0]\n"
          ]
        }
      ],
      "source": [
        "import sys\n",
        "print(sys.version)"
      ]
    },
    {
      "cell_type": "markdown",
      "metadata": {
        "id": "uEU4M4kkjeaR"
      },
      "source": [
        "3. Write a Python program to display the current date and time "
      ]
    },
    {
      "cell_type": "code",
      "execution_count": 18,
      "metadata": {
        "colab": {
          "base_uri": "https://localhost:8080/"
        },
        "id": "brsnpllsjgv7",
        "outputId": "0bae5952-2981-41dc-a9c9-723690776aa8"
      },
      "outputs": [
        {
          "output_type": "stream",
          "name": "stdout",
          "text": [
            "Current Date : 2021-12-31\n",
            "Current Time :13:38:52\n"
          ]
        }
      ],
      "source": [
        "import datetime\n",
        "now = datetime.datetime.now()\n",
        "print(now.strftime(f\"Current Date : %Y-%m-%d\\nCurrent Time :%H:%M:%S\"))\n"
      ]
    },
    {
      "cell_type": "markdown",
      "metadata": {
        "id": "DNnzc8ijkbfn"
      },
      "source": [
        "4. Write a Python program which accepts the radius of a circle from the user and compute the area. \n"
      ]
    },
    {
      "cell_type": "code",
      "execution_count": null,
      "metadata": {
        "colab": {
          "base_uri": "https://localhost:8080/"
        },
        "id": "6Bs_WJBFkfct",
        "outputId": "0e1a7e35-c7d4-48dc-faf9-d31926436c4b"
      },
      "outputs": [
        {
          "name": "stdout",
          "output_type": "stream",
          "text": [
            "Enter a Radius :544\n",
            "Area of Circle is : 929710.363532749\n"
          ]
        }
      ],
      "source": [
        "import math\n",
        "r = float(input(\"Enter a Radius :\"))\n",
        "area = math.pi * (r*r)\n",
        "print(f\"Area of Circle is : {area}\")"
      ]
    },
    {
      "cell_type": "markdown",
      "metadata": {
        "id": "-SHc9VWWkgzw"
      },
      "source": [
        "5. Write a Python program which accepts the users first and last name and print them in reverse order with a space between them. \n"
      ]
    },
    {
      "cell_type": "code",
      "execution_count": null,
      "metadata": {
        "colab": {
          "base_uri": "https://localhost:8080/"
        },
        "id": "lbOjfOn0j58W",
        "outputId": "609a80c2-007a-44b0-a391-6c318dcad327"
      },
      "outputs": [
        {
          "name": "stdout",
          "output_type": "stream",
          "text": [
            "Enter First Name : sadiq\n",
            "Enter Last Name : shah\n",
            "With F string method : shah sadiq\n",
            "With Format Method : shah sadiq\n"
          ]
        }
      ],
      "source": [
        "firstName = input(\"Enter First Name : \")\n",
        "LastName = input(\"Enter Last Name : \")\n",
        "print(f\"With F string method : {LastName} {firstName}\")\n",
        "print('With Format Method : {} {}'.format(LastName,firstName))\n"
      ]
    },
    {
      "cell_type": "markdown",
      "metadata": {
        "id": "Kig4eJpvqgJe"
      },
      "source": [
        "6. Write a python program which takes two Inputs from user and print them addition \n"
      ]
    },
    {
      "cell_type": "code",
      "execution_count": null,
      "metadata": {
        "colab": {
          "base_uri": "https://localhost:8080/"
        },
        "id": "0nqiHWLRqU4r",
        "outputId": "febc9654-20cd-48e8-8562-7057b9dd7f5a"
      },
      "outputs": [
        {
          "output_type": "stream",
          "name": "stdout",
          "text": [
            "Enter 1st Number (e.g int,float) : 44\n",
            "Enter 2nd Number (e.g int,float) : 66.4\n",
            "Addition of Two Numbers with Decimal Point If present: 110.4\n",
            "Addition of Two Numbers with No Decimal Point: 110\n"
          ]
        }
      ],
      "source": [
        "num1 = float(input(\"Enter 1st Number (e.g int,float) : \"))\n",
        "num2 = float(input(\"Enter 2nd Number (e.g int,float) : \"))\n",
        "\n",
        "Add = num1 + num2\n",
        "print(f\"Addition of Two Numbers with Decimal Point If present: {(Add)}\")\n",
        "print(f\"Addition of Two Numbers with No Decimal Point: {int(Add)}\")\n"
      ]
    },
    {
      "cell_type": "code",
      "execution_count": null,
      "metadata": {
        "id": "C3xjA5nKrocC"
      },
      "outputs": [],
      "source": [
        ""
      ]
    },
    {
      "cell_type": "code",
      "source": [
        ""
      ],
      "metadata": {
        "id": "h21l8rTFtYiz"
      },
      "execution_count": null,
      "outputs": []
    }
  ],
  "metadata": {
    "colab": {
      "collapsed_sections": [],
      "name": "Assignment-1.ipynb",
      "provenance": []
    },
    "kernelspec": {
      "display_name": "Python 3",
      "name": "python3"
    },
    "language_info": {
      "name": "python"
    }
  },
  "nbformat": 4,
  "nbformat_minor": 0
}