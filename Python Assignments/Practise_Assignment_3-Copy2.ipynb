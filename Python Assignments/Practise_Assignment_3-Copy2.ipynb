{
 "cells": [
  {
   "cell_type": "markdown",
   "metadata": {},
   "source": [
    "# Q1:"
   ]
  },
  {
   "cell_type": "markdown",
   "metadata": {},
   "source": [
    "Think of at least three kinds of your favorite pizza. Store these pizza names in a list, and then use a for loop to print the name of each pizza."
   ]
  },
  {
   "cell_type": "code",
   "execution_count": 1,
   "metadata": {},
   "outputs": [
    {
     "name": "stdout",
     "output_type": "stream",
     "text": [
      "=============================================================\n",
      "\t\t     My Favorite Pizza\n",
      "=============================================================\n",
      "\t\t - Chicken Pizza\n",
      "\t\t - Vegitable Pizza\n",
      "\t\t - Malai Boti Pizza\n"
     ]
    }
   ],
   "source": [
    "\n",
    "pizzas=['Chicken Pizza',\"Vegitable Pizza\",\"Malai Boti Pizza\"]\n",
    "print(\"=============================================================\")\n",
    "print(\"\\t\\t     My Favorite Pizza\")\n",
    "print(\"=============================================================\")\n",
    "for pizza in pizzas:\n",
    "    print(\"\\t\\t\",\"-\",pizza)"
   ]
  },
  {
   "cell_type": "markdown",
   "metadata": {},
   "source": [
    "# Q2:"
   ]
  },
  {
   "cell_type": "markdown",
   "metadata": {},
   "source": [
    "Start with your last question,MOdify your for loop to print a sentence using the name of pizza instead of printing just the name of pizza.For eaach pizza you should have one line output containig likei like pepperoni pizza."
   ]
  },
  {
   "cell_type": "code",
   "execution_count": 28,
   "metadata": {},
   "outputs": [
    {
     "name": "stdout",
     "output_type": "stream",
     "text": [
      "=============================================================\n",
      "\t\t    My Favorite Pizza\n",
      "=============================================================\n",
      "\t\t - I like Chicken Pizza\n",
      "\t\t - I like Vegitable Pizza\n",
      "\t\t - I like Malai Boti Pizza\n"
     ]
    }
   ],
   "source": [
    "pizzas=['Chicken Pizza',\"Vegitable Pizza\",\"Malai Boti Pizza\"]\n",
    "print(\"=============================================================\")\n",
    "print(\"\\t\\t    My Favorite Pizza\")\n",
    "print(\"=============================================================\")\n",
    "for pizza in pizzas:\n",
    "    print(f\"\\t\\t - I like {pizza}\")"
   ]
  },
  {
   "cell_type": "markdown",
   "metadata": {},
   "source": [
    "# Q3:"
   ]
  },
  {
   "cell_type": "markdown",
   "metadata": {},
   "source": [
    "Use a for loop to print the numbers from 1 to 20,\n",
    "inclusive."
   ]
  },
  {
   "cell_type": "code",
   "execution_count": 31,
   "metadata": {},
   "outputs": [
    {
     "name": "stdout",
     "output_type": "stream",
     "text": [
      "=============================================================\n",
      "\t\t    Counting 1-20\n",
      "=============================================================\n",
      "1 2 3 4 5 6 7 8 9 10 11 12 13 14 15 16 17 18 19 20 "
     ]
    }
   ],
   "source": [
    "print(\"=============================================================\")\n",
    "print(\"\\t\\t    Counting 1-20\")\n",
    "print(\"=============================================================\")\n",
    "for no in range(1,21):\n",
    "    print(no,end=\" \")"
   ]
  },
  {
   "cell_type": "markdown",
   "metadata": {},
   "source": [
    "# Q4:"
   ]
  },
  {
   "cell_type": "markdown",
   "metadata": {},
   "source": [
    "Use the third argument of the range() function to make a list\n",
    "of the odd numbers from 1 to 20. Use a for loop to print each number."
   ]
  },
  {
   "cell_type": "code",
   "execution_count": 48,
   "metadata": {},
   "outputs": [
    {
     "name": "stdout",
     "output_type": "stream",
     "text": [
      "=============================================================\n",
      "\t\t      ODD Numbers\n",
      "=============================================================\n",
      "1     3     5     7     9     11     13     15     17     19     "
     ]
    }
   ],
   "source": [
    "print(\"=============================================================\")\n",
    "print(\"\\t\\t      ODD Numbers\")\n",
    "print(\"=============================================================\")\n",
    "for Odd_no in range(1,21,2):\n",
    "    print(Odd_no,end=\"     \")"
   ]
  },
  {
   "cell_type": "markdown",
   "metadata": {},
   "source": [
    "# Q5:"
   ]
  },
  {
   "cell_type": "markdown",
   "metadata": {},
   "source": [
    "Make a list of the multiples of 3 from 3 to 30. Use a for loop to\n",
    "print the numbers in your list."
   ]
  },
  {
   "cell_type": "code",
   "execution_count": 56,
   "metadata": {},
   "outputs": [
    {
     "name": "stdout",
     "output_type": "stream",
     "text": [
      "=============================================================\n",
      "\t\t    Table of 3 (3 to 30)\n",
      "=============================================================\n",
      "\t\t\t 3x  1 =  3\n",
      "\t\t\t 3x  2 =  6\n",
      "\t\t\t 3x  3 =  9\n",
      "\t\t\t 3x  4 =  12\n",
      "\t\t\t 3x  5 =  15\n",
      "\t\t\t 3x  6 =  18\n",
      "\t\t\t 3x  7 =  21\n",
      "\t\t\t 3x  8 =  24\n",
      "\t\t\t 3x  9 =  27\n",
      "\t\t\t 3x  10 =  30\n"
     ]
    }
   ],
   "source": [
    "print(\"=============================================================\")\n",
    "print(\"\\t\\t    Table of 3 (3 to 30)\")\n",
    "print(\"=============================================================\")\n",
    "for table in range(1,11):\n",
    "    multiples=3*table\n",
    "    print(f\"\\t\\t\\t 3x  {table} =  {multiples}\")"
   ]
  },
  {
   "cell_type": "markdown",
   "metadata": {},
   "source": [
    "# Q6:"
   ]
  },
  {
   "cell_type": "markdown",
   "metadata": {},
   "source": [
    "A number raised to the third power is called a cube. For example,\n",
    "the cube of 2 is written as 2**3 in Python. Make a list of the first 10 cubes (that\n",
    "is, the cube of each integer from 1 through 10), and use a for loop to print out\n",
    "the value of each cube"
   ]
  },
  {
   "cell_type": "code",
   "execution_count": 3,
   "metadata": {},
   "outputs": [
    {
     "name": "stdout",
     "output_type": "stream",
     "text": [
      "=============================================================\n",
      "\t\t\t Cubes 1 to 10\n",
      "=============================================================\n",
      "\t\t\tCube of 1 is 1\n",
      "\t\t\tCube of 2 is 8\n",
      "\t\t\tCube of 3 is 27\n",
      "\t\t\tCube of 4 is 64\n",
      "\t\t\tCube of 5 is 125\n",
      "\t\t\tCube of 6 is 216\n",
      "\t\t\tCube of 7 is 343\n",
      "\t\t\tCube of 8 is 512\n",
      "\t\t\tCube of 9 is 729\n",
      "\t\t\tCube of 10 is 1000\n"
     ]
    }
   ],
   "source": [
    "print(\"=============================================================\")\n",
    "print(\"\\t\\t\\t Cubes 1 to 10\")\n",
    "print(\"=============================================================\")\n",
    "for cube in range(1,11):\n",
    "    print(f\"\\t\\t\\tCube of {cube} is {cube**3}\")"
   ]
  },
  {
   "cell_type": "markdown",
   "metadata": {},
   "source": [
    "# Q7:"
   ]
  },
  {
   "cell_type": "markdown",
   "metadata": {},
   "source": [
    "###### Make a python program that conatains your nine favourite dishes in a list called foods.\n",
    "\n",
    "###### Print the message, The first three items in the list are:. \n",
    "###### Then use a slice to print the first three items from that program’s list.\n",
    "\n",
    "###### Print the message, Three items from the middle of the list are:\n",
    "###### Use a slice to print three items from the middle of the list.\n",
    "\n",
    "###### Print the message, The last three items in the list are:\n",
    "###### Use a slice to print the last three items in the list."
   ]
  },
  {
   "cell_type": "code",
   "execution_count": 4,
   "metadata": {},
   "outputs": [
    {
     "name": "stdout",
     "output_type": "stream",
     "text": [
      "=============================================================\n",
      "Using Slice Method to Print First,Middle and Last Items\n",
      "=============================================================\n",
      "\n",
      "\n",
      "The First Three items in a list are: \n",
      "=====================================\n",
      "- Chicken Briyani\n",
      "- Beef Karai\n",
      "- Korma\n",
      "\n",
      "\n",
      "The Middle items in a list are: \n",
      "=====================================\n",
      "- Beef Pulao\n",
      "- CHattni Waly Aloo\n",
      "- Channy KI chaat\n",
      "\n",
      "\n",
      "The Last Three items in a list are: \n",
      "====================================\n",
      "- Mutton Karai\n",
      "- Fry Egg\n",
      "- ALoo ky Parathy\n"
     ]
    }
   ],
   "source": [
    "print(\"=============================================================\")\n",
    "print(\"Using Slice Method to Print First,Middle and Last Items\")\n",
    "print(\"=============================================================\")\n",
    "for cube in range(1,11):\n",
    "    foods=['Chicken Briyani',\"Beef Karai\",\"Korma\",\"Beef Pulao\",\"CHattni Waly Aloo\",\"Channy KI chaat\",\"Mutton Karai\",\"Fry Egg\",\"ALoo ky Parathy\"]\n",
    "\n",
    "print(\"\\n\")\n",
    "print(\"The First Three items in a list are: \")\n",
    "print(\"=====================================\")\n",
    "first_three=foods[:3]\n",
    "for i in first_three:\n",
    "    print(\"-\",i)\n",
    "\n",
    "print(\"\\n\")\n",
    "print(\"The Middle items in a list are: \")\n",
    "print(\"=====================================\")\n",
    "middle_three=foods[3:6]\n",
    "for i in middle_three:\n",
    "    print(\"-\",i)\n",
    "\n",
    "\n",
    "\n",
    "print(\"\\n\")\n",
    "print(\"The Last Three items in a list are: \")\n",
    "print(\"====================================\")\n",
    "Last_three=foods[6:9]\n",
    "for i in Last_three:\n",
    "    print(\"-\",i)\n",
    "\n",
    "\n"
   ]
  },
  {
   "cell_type": "markdown",
   "metadata": {},
   "source": [
    "# Q8:"
   ]
  },
  {
   "cell_type": "markdown",
   "metadata": {},
   "source": [
    "### Start with your program from your last Question8.\n",
    "###### Make a copy of the list of foods, and call it friend_foods.\n",
    "###### Then, do the following:\n",
    "######    Add a new dish to the original list.\n",
    "######    Add a different dish to the list friend_foodss.\n",
    "######    Prove that you have two separate lists. \n",
    "###### Print the message, My favorite pizzas are: and then use a for loop to print the first list. \n",
    "###### Print the message,\n",
    "###### My friend’s favorite foods are:, and then use a for loop to print the second list.\n",
    "    \n",
    "##### NOTE: Make sure each new dish is stored in the appropriate list."
   ]
  },
  {
   "cell_type": "code",
   "execution_count": 117,
   "metadata": {},
   "outputs": [
    {
     "name": "stdout",
     "output_type": "stream",
     "text": [
      "Its My Favorite Food List\n",
      "=========================\n",
      "- Chicken Briyani\n",
      "- Beef Karai\n",
      "- Korma\n",
      "- Beef Pulao\n",
      "- CHattni Waly Aloo\n",
      "- Channy KI chaat\n",
      "- Mutton Karai\n",
      "- Fry Egg\n",
      "- ALoo ky Parathy\n",
      "\n",
      "\n",
      "Its My Friends Favorite Food List\n",
      "=================================\n",
      "- Chicken Briyani\n",
      "- Beef Karai\n",
      "- Korma\n",
      "- Beef Pulao\n",
      "- CHattni Waly Aloo\n",
      "- Channy KI chaat\n",
      "- Mutton Karai\n",
      "- Fry Egg\n",
      "- ALoo ky Parathy\n",
      "\n",
      "\n",
      "After Adding Some Foods in it my fav food list\n",
      "==============================================\n",
      "- My Favroite Foods are: Chicken Briyani\n",
      "- My Favroite Foods are: Beef Karai\n",
      "- My Favroite Foods are: Korma\n",
      "- My Favroite Foods are: Beef Pulao\n",
      "- My Favroite Foods are: CHattni Waly Aloo\n",
      "- My Favroite Foods are: Channy KI chaat\n",
      "- My Favroite Foods are: Mutton Karai\n",
      "- My Favroite Foods are: Fry Egg\n",
      "- My Favroite Foods are: ALoo ky Parathy\n",
      "- My Favroite Foods are: Kofta\n",
      "- My Favroite Foods are: Hot N Spicy Chicken Chutney Roll.\n",
      "\n",
      "\n",
      "After Adding Some Foods in it my friends fav food list\n",
      "==============================================\n",
      "- My Friends Favroite Foods are Chicken Briyani\n",
      "- My Friends Favroite Foods are Beef Karai\n",
      "- My Friends Favroite Foods are Korma\n",
      "- My Friends Favroite Foods are Beef Pulao\n",
      "- My Friends Favroite Foods are CHattni Waly Aloo\n",
      "- My Friends Favroite Foods are Channy KI chaat\n",
      "- My Friends Favroite Foods are Mutton Karai\n",
      "- My Friends Favroite Foods are Fry Egg\n",
      "- My Friends Favroite Foods are ALoo ky Parathy\n",
      "- My Friends Favroite Foods are Kofta\n",
      "- My Friends Favroite Foods are Hot N Spicy Chicken Chutney Roll.\n",
      "- My Friends Favroite Foods are Bihari Tikka\n",
      "- My Friends Favroite Foods are Quarter Broast\n"
     ]
    }
   ],
   "source": [
    "My_fav_foods=['Chicken Briyani',\"Beef Karai\",\"Korma\",\"Beef Pulao\",\"CHattni Waly Aloo\",\"Channy KI chaat\",\"Mutton Karai\",\"Fry Egg\",\"ALoo ky Parathy\"]\n",
    "My_f_fav_Foods=My_fav_foods.copy()\n",
    "\n",
    "print(\"Its My Favorite Food List\")\n",
    "print(\"=========================\")\n",
    "for i in My_fav_foods:\n",
    "    print(\"-\",i)\n",
    "print(\"\\n\")\n",
    "\n",
    "\n",
    "print(\"Its My Friends Favorite Food List\")\n",
    "print(\"=================================\")\n",
    "for i in My_f_fav_Foods:\n",
    "    print(\"-\",i)\n",
    "print(\"\\n\")\n",
    "print(\"After Adding Some Foods in it my fav food list\")\n",
    "print(\"==============================================\")\n",
    "My_fav_foods.append(\"Kofta\")\n",
    "My_fav_foods.append(\"Hot N Spicy Chicken Chutney Roll.\")\n",
    "for i in My_fav_foods:\n",
    "    print(\"- My Favroite Foods are:\",i)\n",
    "    \n",
    "print(\"\\n\")\n",
    "print(\"After Adding Some Foods in it my friends fav food list\")\n",
    "print(\"==============================================\")\n",
    "My_fav_foods.append(\"Bihari Tikka\")\n",
    "My_fav_foods.append(\"Quarter Broast\")\n",
    "for i in My_fav_foods:\n",
    "    print(\"- My Friends Favroite Foods are\",i)"
   ]
  },
  {
   "cell_type": "markdown",
   "metadata": {},
   "source": [
    "# Q9:"
   ]
  },
  {
   "cell_type": "markdown",
   "metadata": {},
   "source": [
    "Take a user input from console line.Store it in a variable called Alien_color.\n",
    "\n",
    "If the alien’s color is red, print a statement that the player just earned 5 points for shooting the alien.\n",
    "\n",
    "If the alien’s color isn’t green, print a statement that the player just earned 10 points.\n",
    "\n",
    "If the alien's color isn't red or green , print a statment :, Alien is no more...."
   ]
  },
  {
   "cell_type": "code",
   "execution_count": 37,
   "metadata": {},
   "outputs": [
    {
     "name": "stdout",
     "output_type": "stream",
     "text": [
      "===================================================\n",
      "Alien Game:Kills the Monster Gets the Point\n",
      "===================================================\n",
      "Enter a Color As you like: White\n",
      "No More Alien\n"
     ]
    }
   ],
   "source": [
    "print(\"===================================================\")\n",
    "print(\"Alien Game:Kills the Monster Gets the Point\")\n",
    "print(\"===================================================\")\n",
    "Alien_color=input(\"Enter a Color As you like: \")\n",
    "if(Alien_color==\"Red\") or( Alien_color==\"red\"):\n",
    "    print(\"Hurrah ! You GOt 5 points For shooting the Aliean\")\n",
    "elif (Alien_color==\"Green\") or( Alien_color==\"green\"):\n",
    "    print(\"Hurrah !You GOt 10 points For shooting the Aliean \")\n",
    "else:\n",
    "    print(\"No More Alien\")"
   ]
  },
  {
   "cell_type": "markdown",
   "metadata": {},
   "source": [
    "# Q10:"
   ]
  },
  {
   "cell_type": "markdown",
   "metadata": {},
   "source": [
    "Write an if-elif-else chain that determines a person’s\n",
    "stage of life. Set a value for the variable age, and then:\n",
    "    \n",
    "•\t If the person is less than 2 years old, print a message that the person is a baby.\n",
    "\n",
    "•\t If the person is at least 2 years old but less than 4, print a message that the person is a toddler.\n",
    "\n",
    "•\t If the person is at least 4 years old but less than 13, print a message that the person is a kid.\n",
    "\n",
    "•\t If the person is at least 13 years old but less than 20, print a message that the person is a teenager.\n",
    "\n",
    "•\t If the person is at least 20 years old but less than 65, print a message that the person is an adult.\n",
    "\n",
    "•\t If the person is age 65 or older, print a message that the person is an elder."
   ]
  },
  {
   "cell_type": "code",
   "execution_count": 1,
   "metadata": {},
   "outputs": [
    {
     "name": "stdout",
     "output_type": "stream",
     "text": [
      "Enter a Age: 3\n",
      "==========================\n",
      "Person is a toddler\n"
     ]
    }
   ],
   "source": [
    "p_age=int(input(\"Enter a Age: \"))\n",
    "print(\"==========================\")\n",
    "if p_age < 2:\n",
    "    print(\"Person is a  baby\")\n",
    "    \n",
    "elif p_age >= 2 and p_age < 4:\n",
    "    print(\"Person is a toddler\")\n",
    "    \n",
    "elif p_age >= 4 and p_age < 13:\n",
    "    print(\"You are Kid\")\n",
    "    \n",
    "elif p_age >= 13 and p_age < 20:\n",
    "    print(\"You are teenager\")\n",
    "    \n",
    "elif p_age >= 20 and p_age < 65:\n",
    "    print(\"You are Adult\")\n",
    "\n",
    "else:\n",
    "    print(\"You are Elder !\")"
   ]
  },
  {
   "cell_type": "markdown",
   "metadata": {},
   "source": [
    "# Q11:"
   ]
  },
  {
   "cell_type": "markdown",
   "metadata": {},
   "source": [
    "Do the following to create a program that simulates how websites ensure that everyone has a unique username.\n",
    "\n",
    "•\t Make a list of five or more usernames called current_users.\n",
    "\n",
    "•\t Make another list of five usernames called new_users. \n",
    "Make sure one or two of the new usernames are also in the current_users list.\n",
    "\n",
    "•\t Loop through the new_users list to see if each new username has already been used. \n",
    "If it has, print a message that the person will need to enter a new username. \n",
    "If a username has not been used, print a message saying that the username is available.\n",
    "\n",
    "•\t Make sure your comparison is case insensitive. If 'John' has been used, 'JOHN' should not be accepted."
   ]
  },
  {
   "cell_type": "code",
   "execution_count": 3,
   "metadata": {},
   "outputs": [
    {
     "name": "stdout",
     "output_type": "stream",
     "text": [
      "Noman Avalible\n",
      "Seema Already taken,you will need to enter a new username.\n",
      "Kashif Avalible\n",
      "Faisal Avalible\n",
      "Ali Already taken,you will need to enter a new username.\n",
      "Fareed Avalible\n",
      "Majeed Avalible\n"
     ]
    }
   ],
   "source": [
    "current_users=[\"Ali\",\"Kasif\",\"Fateh\",\"Shoaib\",\"Khalid\",\"Shahdad\",\"Seema\"]\n",
    "\n",
    "new_users=[\"Noman\",\"Seema\",\"Kashif\",\"Faisal\",\"Ali\",\"Fareed\",\"Majeed\"]\n",
    "\n",
    "current_list_lower=[c_u.lower() for c_u in current_users]\n",
    "for n_u in new_users :\n",
    "    if n_u.lower() in current_list_lower:\n",
    "        print(f\"{n_u} Already taken,you will need to enter a new username.\")\n",
    "    else:\n",
    "        print(n_u,\"Avalible\")\n"
   ]
  },
  {
   "cell_type": "code",
   "execution_count": null,
   "metadata": {},
   "outputs": [],
   "source": []
  },
  {
   "cell_type": "markdown",
   "metadata": {},
   "source": [
    "1# "
   ]
  },
  {
   "cell_type": "code",
   "execution_count": null,
   "metadata": {},
   "outputs": [],
   "source": []
  },
  {
   "cell_type": "markdown",
   "metadata": {},
   "source": [
    "# Q12:"
   ]
  },
  {
   "cell_type": "markdown",
   "metadata": {},
   "source": [
    "Use a dictionary to store information about a person you know.\n",
    "Store their first name, last name, age, and the city in which they live. \n",
    "You should have keys such as first_name, last_name, age, and city. \n",
    "Print each piece of information stored in your dictionary"
   ]
  },
  {
   "cell_type": "code",
   "execution_count": 19,
   "metadata": {},
   "outputs": [
    {
     "name": "stdout",
     "output_type": "stream",
     "text": [
      "      INFORMATION\n",
      "=======================\n",
      "My first name is: Sadiq\n",
      "My last name is: Shah\n",
      "My age is: 21\n",
      "I live in: Karachi\n"
     ]
    }
   ],
   "source": [
    "print(\"      INFORMATION\")\n",
    "print(\"=======================\")\n",
    "info_dic={\n",
    "    \"First Name\":\"Sadiq\",\n",
    "    \"Last Name\":\"Shah\",\n",
    "    \"Age\":21,\n",
    "    \"City\":\"Karachi\"\n",
    "}\n",
    "print(\"My first name is:\",info_dic['First Name'])\n",
    "print(\"My last name is:\",info_dic['Last Name'])\n",
    "print(\"My age is:\",info_dic['Age'])\n",
    "print(\"I live in:\",info_dic['City'])"
   ]
  },
  {
   "cell_type": "markdown",
   "metadata": {},
   "source": [
    "# Q13:"
   ]
  },
  {
   "cell_type": "markdown",
   "metadata": {},
   "source": [
    "Starts with your last question 12 , loop through the dictionary’s keys and values.\n",
    "When you’re sure that your loop works, add five more Python terms to your\n",
    "dictionary . When you run your program again, these new words and meanings\n",
    "should automatically be included in the output."
   ]
  },
  {
   "cell_type": "code",
   "execution_count": 28,
   "metadata": {},
   "outputs": [
    {
     "name": "stdout",
     "output_type": "stream",
     "text": [
      "      INFORMATION\n",
      "=======================\n",
      "First Name:Sadiq\n",
      "Last Name:Shah\n",
      "Age:21\n",
      "City:Karachi\n"
     ]
    }
   ],
   "source": [
    "print(\"      INFORMATION\")\n",
    "print(\"=======================\")\n",
    "info_dic={\n",
    "    \"First Name\":\"Sadiq\",\n",
    "    \"Last Name\":\"Shah\",\n",
    "    \"Age\":21,\n",
    "    \"City\":\"Karachi\"\n",
    "}\n",
    "for key,value in info_dic.items():\n",
    "    print(f\"{key}:{value}\")\n",
    "    \n",
    "    \n",
    "\n"
   ]
  },
  {
   "cell_type": "code",
   "execution_count": 35,
   "metadata": {},
   "outputs": [
    {
     "name": "stdout",
     "output_type": "stream",
     "text": [
      "=================== Updated Ditionaries===============\n",
      "First Name:Sadiq\n",
      "Last Name:Shah\n",
      "Age:21\n",
      "City:Karachi\n",
      "Print:Which use to print statement\n",
      "loops:Any worked repeat again and again\n",
      "functions:Peices of code\n",
      "Directories:Print unordered list\n",
      "list:Print Ordered List\n",
      "Ditionories:Print unordered list\n"
     ]
    }
   ],
   "source": [
    "print(\"=================== Updated Ditionaries===============\")\n",
    "info_dic[\"Print\"]=\"Which use to print statement\"\n",
    "info_dic[\"loops\"]=\"Any worked repeat again and again\"\n",
    "info_dic[\"functions\"]=\"Peices of code\"\n",
    "info_dic[\"Ditionories\"]=\"Print unordered list\"\n",
    "info_dic[\"list\"]=\"Print Ordered List\"\n",
    "\n",
    "for key,value in info_dic.items():\n",
    "    print(f\"{key}:{value}\")\n",
    "    \n"
   ]
  },
  {
   "cell_type": "markdown",
   "metadata": {},
   "source": [
    "# Q14:"
   ]
  },
  {
   "cell_type": "markdown",
   "metadata": {},
   "source": [
    "Make a dictionary containing three major rivers and the country\n",
    "each river runs through. One key-value pair might be 'nile': 'egypt'.\n",
    "    \n",
    "    \n",
    "•\t Use a loop to print a sentence about each river, such as The Nile runs\n",
    "through Egypt.\n",
    "\n",
    "NOTE: use upper case through keys and values."
   ]
  },
  {
   "cell_type": "code",
   "execution_count": 62,
   "metadata": {},
   "outputs": [
    {
     "name": "stdout",
     "output_type": "stream",
     "text": [
      "\tMAJOR RIVERS\n",
      "\t============\n",
      "- INDUS runs through SINDH\n",
      "- JEHLUM runs through PANJAB\n",
      "- HINGOL runs through BALOCHISTAN\n"
     ]
    }
   ],
   "source": [
    "print(\"\\tMAJOR RIVERS\")\n",
    "print(\"\\t============\")\n",
    "rivers={\n",
    "    \"Indus\":\"Sindh\",\n",
    "    \"Jehlum\":\"Panjab\",\n",
    "    \"Hingol\":\"Balochistan\"\n",
    "}\n",
    "for key,value in rivers.items():\n",
    "    print(\"- \"+ key.upper() +\" \" + \"runs through\"+\" \"+ value.upper())"
   ]
  },
  {
   "cell_type": "markdown",
   "metadata": {},
   "source": [
    "# Q15:"
   ]
  },
  {
   "cell_type": "markdown",
   "metadata": {},
   "source": [
    "Make several dictionaries, where the name of each dictionary is the\n",
    "name of a pet. In each dictionary, include the kind of animal and the owner’s\n",
    "name. Store these dictionaries in a list called pets. Next, loop through your list\n",
    "and as you do print everything you know about each pet."
   ]
  },
  {
   "cell_type": "code",
   "execution_count": 19,
   "metadata": {},
   "outputs": [
    {
     "name": "stdout",
     "output_type": "stream",
     "text": [
      "Kind(dog):  Animal\n",
      "Owner:  John David\n",
      "\n",
      "Kind(Pigeon):  Bird\n",
      "Owner:  Sahir Ali\n",
      "\n",
      "Kind(Horse):  Animal\n",
      "Owner:  Abid Feroz\n",
      "\n"
     ]
    }
   ],
   "source": [
    "dog={\n",
    "    \"Kind(dog)\":\"Animal\",\n",
    "    \"Owner\":\"John David\"\n",
    "}\n",
    "Pigeons={\n",
    "    \"Kind(Pigeon)\":\"Bird\",\n",
    "    \"Owner\":\"Sahir Ali\"\n",
    "}\n",
    "Horse={\n",
    "     \"Kind(Horse)\":\"Animal\",\n",
    "    \"Owner\":\"Abid Feroz\"\n",
    "}\n",
    "comp_list = [dog,Pigeons,Horse]\n",
    "\n",
    "\n",
    "for i in comp_list:\n",
    "    for key, value in i.items():\n",
    "        print(key + \":  \" + value)\n",
    "    print()"
   ]
  },
  {
   "cell_type": "code",
   "execution_count": null,
   "metadata": {},
   "outputs": [],
   "source": []
  },
  {
   "cell_type": "code",
   "execution_count": null,
   "metadata": {},
   "outputs": [],
   "source": []
  }
 ],
 "metadata": {
  "kernelspec": {
   "display_name": "Python 3",
   "language": "python",
   "name": "python3"
  },
  "language_info": {
   "codemirror_mode": {
    "name": "ipython",
    "version": 3
   },
   "file_extension": ".py",
   "mimetype": "text/x-python",
   "name": "python",
   "nbconvert_exporter": "python",
   "pygments_lexer": "ipython3",
   "version": "3.7.3"
  }
 },
 "nbformat": 4,
 "nbformat_minor": 2
}
