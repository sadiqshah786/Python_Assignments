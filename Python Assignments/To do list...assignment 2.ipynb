{
 "cells": [
  {
   "cell_type": "code",
   "execution_count": null,
   "metadata": {},
   "outputs": [
    {
     "name": "stdout",
     "output_type": "stream",
     "text": [
      "============================\n",
      "-------- To Do List --------\n",
      "============================\n",
      " Class Tasks at PIAIC\n",
      "----------------------\n",
      "i- Come on time\n",
      "ii- Make a line\n",
      "iii- Mark your attendance\n",
      "iv-sit in Audi\n",
      "v- Take Class\n"
     ]
    }
   ],
   "source": [
    "print(\"============================\")\n",
    "print(\"-------- To Do List --------\")\n",
    "print(\"============================\")\n",
    "print(\" Class Tasks at PIAIC\")\n",
    "print('----------------------')\n",
    "empty=[]\n",
    "tasks=['i- Come on time','ii- Make a line','iii- Mark your attendance','iv-sit in Audi','v- Take Class']\n",
    "for i in tasks:\n",
    "    print(i)\n",
    "user_input=input(\"Enter a task that perform at PIAIC\\n\")\n",
    "if user_input==tasks:\n",
    "    store_task=tasks.index(user_input)\n",
    "    tasks.pop(store_task)                     \n",
    "    empty.append(user_input)\n",
    "    print(\"Your remaing task is:\",len(task_list))\n",
    "    for value in task_list:\n",
    "        print(\"--- \"+value)\n",
    "    print(\"YOu completed task is :\",{len(empty_list)})\n",
    "    \n",
    "    print(f\"Completed task {empty_list} \")\n",
    "    \n",
    "\n"
   ]
  },
  {
   "cell_type": "code",
   "execution_count": null,
   "metadata": {},
   "outputs": [],
   "source": []
  }
 ],
 "metadata": {
  "kernelspec": {
   "display_name": "Python 3",
   "language": "python",
   "name": "python3"
  },
  "language_info": {
   "codemirror_mode": {
    "name": "ipython",
    "version": 3
   },
   "file_extension": ".py",
   "mimetype": "text/x-python",
   "name": "python",
   "nbconvert_exporter": "python",
   "pygments_lexer": "ipython3",
   "version": "3.7.3"
  }
 },
 "nbformat": 4,
 "nbformat_minor": 2
}
