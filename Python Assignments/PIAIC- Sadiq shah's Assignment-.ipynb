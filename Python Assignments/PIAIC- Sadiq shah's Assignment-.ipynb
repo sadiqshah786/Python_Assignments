{
 "cells": [
  {
   "cell_type": "markdown",
   "metadata": {},
   "source": [
    "#                                     My 1st  ASSIGNMENT:\n",
    "  Done 15 Question:\n",
    "  \n",
    "  ALLHUMDULLIAH\n",
    "                                      "
   ]
  },
  {
   "cell_type": "markdown",
   "metadata": {},
   "source": [
    "# Q1:"
   ]
  },
  {
   "cell_type": "raw",
   "metadata": {},
   "source": [
    "Store a message in a variable, and then print that\n",
    "message."
   ]
  },
  {
   "cell_type": "code",
   "execution_count": 6,
   "metadata": {},
   "outputs": [
    {
     "name": "stdout",
     "output_type": "stream",
     "text": [
      "Im learnig pythons from Sindh Scouts boys Association\n"
     ]
    }
   ],
   "source": [
    "message= \"Im learnig pythons from Sindh Scouts boys Association\"\n",
    "print(message)\n"
   ]
  },
  {
   "cell_type": "code",
   "execution_count": null,
   "metadata": {},
   "outputs": [],
   "source": []
  },
  {
   "cell_type": "markdown",
   "metadata": {},
   "source": [
    "# Q2:"
   ]
  },
  {
   "cell_type": "raw",
   "metadata": {},
   "source": [
    "Store a message in a variable, and print that message.\n",
    "Then change the value of your variable to a new message, and print the new\n",
    "message."
   ]
  },
  {
   "cell_type": "code",
   "execution_count": 76,
   "metadata": {},
   "outputs": [
    {
     "name": "stdout",
     "output_type": "stream",
     "text": [
      "Im learnig pythons from Sindh Scouts boys Association and the teacher is Sir Nasir Hussain\n"
     ]
    }
   ],
   "source": [
    "message= \"Im learnig pythons from Sindh Scouts boys Association\"\n",
    "new_message= message + \" and the teacher is Sir Nasir Hussain\"\n",
    "print(new_message)"
   ]
  },
  {
   "cell_type": "markdown",
   "metadata": {},
   "source": [
    "# Q3:"
   ]
  },
  {
   "cell_type": "raw",
   "metadata": {},
   "source": [
    "Store a person’s name in a variable, and print a message to that person. Your message should be simple, such as, “Hello Shahzad,\n",
    "would you like to learn some Python today?”"
   ]
  },
  {
   "cell_type": "code",
   "execution_count": 73,
   "metadata": {},
   "outputs": [
    {
     "name": "stdout",
     "output_type": "stream",
     "text": [
      "\"Hello Shahzad,\n",
      "would you like to learn some Python today?”\n"
     ]
    }
   ],
   "source": [
    "persons_name='\"Hello Shahzad,\\n'\n",
    "\n",
    "message= persons_name +'would you like to learn some Python today?”'\n",
    "print(message)"
   ]
  },
  {
   "cell_type": "markdown",
   "metadata": {},
   "source": [
    "# Q4:"
   ]
  },
  {
   "cell_type": "raw",
   "metadata": {},
   "source": [
    "Store a person’s name in a variable, and then print that person’s name in lowercase, uppercase, and titlecase."
   ]
  },
  {
   "cell_type": "code",
   "execution_count": 5,
   "metadata": {},
   "outputs": [
    {
     "data": {
      "text/plain": [
       "'wasiq anwar'"
      ]
     },
     "execution_count": 5,
     "metadata": {},
     "output_type": "execute_result"
    }
   ],
   "source": [
    "#ower case:\n",
    "\n",
    "persons_name=\"WaSiq ANwaR\"\n",
    "persons_name.lower()\n"
   ]
  },
  {
   "cell_type": "code",
   "execution_count": 7,
   "metadata": {},
   "outputs": [
    {
     "data": {
      "text/plain": [
       "'WASIQ ANWAR'"
      ]
     },
     "execution_count": 7,
     "metadata": {},
     "output_type": "execute_result"
    }
   ],
   "source": [
    "#Upper case:\n",
    "\n",
    "persons_name=\"WaSiq ANwaR\"\n",
    "persons_name.upper()"
   ]
  },
  {
   "cell_type": "code",
   "execution_count": 6,
   "metadata": {},
   "outputs": [
    {
     "data": {
      "text/plain": [
       "'Wasiq Anwar'"
      ]
     },
     "execution_count": 6,
     "metadata": {},
     "output_type": "execute_result"
    }
   ],
   "source": [
    "#title case\n",
    "persons_name=\"WaSiq ANwaR\"\n",
    "persons_name.title()"
   ]
  },
  {
   "cell_type": "markdown",
   "metadata": {},
   "source": [
    "# Q5:"
   ]
  },
  {
   "cell_type": "raw",
   "metadata": {},
   "source": [
    "Find a quote from a famous person you admire. Print the\n",
    "quote and the name of its author. Your output should look something like the\n",
    "following, including the quotation marks:\n",
    "    \n",
    "    \n",
    "Albert Einstein once said, “A person who never made a\n",
    "mistake never tried anything new.”"
   ]
  },
  {
   "cell_type": "code",
   "execution_count": 75,
   "metadata": {},
   "outputs": [
    {
     "name": "stdout",
     "output_type": "stream",
     "text": [
      "ISAC Newton said, \"If I have seen further than others, it is by standing upon the shoulders of giants\"\n"
     ]
    }
   ],
   "source": [
    "name=\"ISAC Newton said,\"\n",
    "print( name + ' \"If I have seen further than others, it is by standing upon the shoulders of giants\"')"
   ]
  },
  {
   "cell_type": "markdown",
   "metadata": {},
   "source": [
    "# Q6:"
   ]
  },
  {
   "cell_type": "raw",
   "metadata": {},
   "source": [
    "Write addition, subtraction, multiplication, and division\n",
    "operations that each result in the number 8. Be sure to enclose your operations\n",
    "in print statements to see the results. You should create four lines that look\n",
    "like this:\n",
    "    \n",
    "    \n",
    "print(5 + 3)"
   ]
  },
  {
   "cell_type": "code",
   "execution_count": 11,
   "metadata": {},
   "outputs": [
    {
     "name": "stdout",
     "output_type": "stream",
     "text": [
      "8\n"
     ]
    }
   ],
   "source": [
    "print(4+4)"
   ]
  },
  {
   "cell_type": "code",
   "execution_count": 12,
   "metadata": {},
   "outputs": [
    {
     "name": "stdout",
     "output_type": "stream",
     "text": [
      "8\n"
     ]
    }
   ],
   "source": [
    "print(10-2)"
   ]
  },
  {
   "cell_type": "code",
   "execution_count": 13,
   "metadata": {},
   "outputs": [
    {
     "name": "stdout",
     "output_type": "stream",
     "text": [
      "8\n"
     ]
    }
   ],
   "source": [
    "print(4*2)"
   ]
  },
  {
   "cell_type": "code",
   "execution_count": 15,
   "metadata": {},
   "outputs": [
    {
     "name": "stdout",
     "output_type": "stream",
     "text": [
      "8\n"
     ]
    }
   ],
   "source": [
    "print(16//2)"
   ]
  },
  {
   "cell_type": "markdown",
   "metadata": {},
   "source": [
    "# Q7:"
   ]
  },
  {
   "cell_type": "raw",
   "metadata": {},
   "source": [
    "Create a variable called number1 with the value of 8.\n",
    "Write a print statement to print number1 multiplied by 9."
   ]
  },
  {
   "cell_type": "code",
   "execution_count": 22,
   "metadata": {
    "scrolled": true
   },
   "outputs": [
    {
     "name": "stdout",
     "output_type": "stream",
     "text": [
      "The 8 is Multiply by 9\n",
      "Answer is:  72\n"
     ]
    }
   ],
   "source": [
    "name1=8\n",
    "print(\"The 8 is Multiply by 9\\nAnswer is: \",name1*9)\n"
   ]
  },
  {
   "cell_type": "markdown",
   "metadata": {},
   "source": [
    "# Q8:"
   ]
  },
  {
   "cell_type": "raw",
   "metadata": {},
   "source": [
    "Store your favorite number in a variable. Then, using\n",
    "that variable, create a message that reveals your favorite number. Print that\n",
    "message."
   ]
  },
  {
   "cell_type": "code",
   "execution_count": 83,
   "metadata": {},
   "outputs": [
    {
     "name": "stdout",
     "output_type": "stream",
     "text": [
      "Its My Favorite Number: 786\n",
      "Its My Favorite Number: 786\n",
      "Its My Favorite Number: 786\n",
      "Its My Favorite Number: 786\n"
     ]
    }
   ],
   "source": [
    "fav_no=786\n",
    "print(\"Its My Favorite Number:\",fav_no) # 1st Method\n",
    "\n",
    "print(\"Its My Favorite Number:\",int(fav_no)) # 2nd Method\n",
    "\n",
    "print(\"Its My Favorite Number: {}\".format(fav_no))  #3rd method\n",
    "\n",
    "print(f\"Its My Favorite Number: {fav_no}\" )         #4th method"
   ]
  },
  {
   "cell_type": "markdown",
   "metadata": {},
   "source": [
    "# Q9:"
   ]
  },
  {
   "cell_type": "raw",
   "metadata": {},
   "source": [
    "Store your name and your age in a varibale called my_name and my_age.\n",
    "Use format method to print your name and your age.\n",
    "Your final output sholud be like this:\n",
    "\n",
    "OUTPUT:    \n",
    "My name is Shahzad Ahsan and my age is 21.\n",
    "\n",
    "NOTE:Use both of the format methods which were discuss in the class."
   ]
  },
  {
   "cell_type": "code",
   "execution_count": 84,
   "metadata": {},
   "outputs": [
    {
     "name": "stdout",
     "output_type": "stream",
     "text": [
      "My name is sadiq shah and my age is 21\n",
      "My name is sadiq shah and my age is 21\n"
     ]
    }
   ],
   "source": [
    "my_name=\"sadiq shah\"\n",
    "my_age=21\n",
    "\n",
    "print(\"My name is {} and my age is {}\".format(my_name,my_age))    #1st method\n",
    "\n",
    "print(f\"My name is {my_name} and my age is {my_age}\")            #2nd method"
   ]
  },
  {
   "cell_type": "markdown",
   "metadata": {},
   "source": [
    "# Q10:"
   ]
  },
  {
   "cell_type": "raw",
   "metadata": {},
   "source": [
    "Write a Python program to check if a number is positive, negative or zero."
   ]
  },
  {
   "cell_type": "code",
   "execution_count": 86,
   "metadata": {},
   "outputs": [
    {
     "name": "stdout",
     "output_type": "stream",
     "text": [
      "Enter any number-7\n",
      "Oh. It's Negative Number\n"
     ]
    }
   ],
   "source": [
    "No=int(input(\"Enter any number\"))\n",
    "if No<0:\n",
    "    print(\"Oh. It's Negative Number\")\n",
    "elif No>0:\n",
    "    print(\"Oh. It's Positive Number\")\n",
    "elif No==0:\n",
    "    print(\"Its Zero\")"
   ]
  },
  {
   "cell_type": "markdown",
   "metadata": {},
   "source": [
    "# Q11:"
   ]
  },
  {
   "cell_type": "raw",
   "metadata": {},
   "source": [
    "Write a Python program which accepts the radius of a circle from the user and compute the\n",
    "area."
   ]
  },
  {
   "cell_type": "code",
   "execution_count": 1,
   "metadata": {},
   "outputs": [
    {
     "name": "stdout",
     "output_type": "stream",
     "text": [
      "Enter the Radius of the circle 3.0\n"
     ]
    },
    {
     "data": {
      "text/plain": [
       "28.278"
      ]
     },
     "execution_count": 1,
     "metadata": {},
     "output_type": "execute_result"
    }
   ],
   "source": [
    "r_o_c=float(input(\"Enter the Radius of the circle \"))\n",
    "\n",
    "# Formula of Area\n",
    "#Area=pi*r*r\n",
    "\n",
    "pi=3.142\n",
    "Area= pi* r_o_c * r_o_c\n",
    "round(Area,3)"
   ]
  },
  {
   "cell_type": "markdown",
   "metadata": {},
   "source": [
    "# Q12:"
   ]
  },
  {
   "cell_type": "raw",
   "metadata": {},
   "source": [
    "Write a Python function to check whether a number is completely divisible by another\n",
    "number. Accept two integer values form the user"
   ]
  },
  {
   "cell_type": "code",
   "execution_count": 63,
   "metadata": {
    "scrolled": true
   },
   "outputs": [
    {
     "name": "stdout",
     "output_type": "stream",
     "text": [
      "ENter any Number12\n",
      "Enter any another5\n",
      "It's not completely divided by another no\n"
     ]
    }
   ],
   "source": [
    "no1=int(input(\"ENter any Number\"))\n",
    "no2=int(input('Enter any another'))\n",
    "if no1%no2==0:\n",
    "    print(\"It's is completely divided by another no\")\n",
    "else:\n",
    "    print(\"It's not completely divided by another no\")"
   ]
  },
  {
   "cell_type": "markdown",
   "metadata": {},
   "source": [
    "# Q13:"
   ]
  },
  {
   "cell_type": "raw",
   "metadata": {},
   "source": [
    "Write a Python program to find whether a given number (accept from the user) is even or\n",
    "odd, print out an appropriate message to the user."
   ]
  },
  {
   "cell_type": "code",
   "execution_count": 61,
   "metadata": {},
   "outputs": [
    {
     "name": "stdout",
     "output_type": "stream",
     "text": [
      "ENter any Number : -0\n",
      "Even Number\n"
     ]
    }
   ],
   "source": [
    "NO=int(input(\"ENter any Number : \"))\n",
    "if NO%2==0:\n",
    "    print(\"Even Number\")\n",
    "elif NO%2!=0:\n",
    "    print(\"Odd Number\")\n",
    "else:\n",
    "    print(\"Niether Even nor Odd\")"
   ]
  },
  {
   "cell_type": "markdown",
   "metadata": {},
   "source": [
    "# Q14:"
   ]
  },
  {
   "cell_type": "raw",
   "metadata": {},
   "source": [
    " Print a suitable statement that uses their response. Such as, if they entered “Bangkok”: “I’d love to visit Bangkook more often”."
   ]
  },
  {
   "cell_type": "code",
   "execution_count": 2,
   "metadata": {},
   "outputs": [
    {
     "name": "stdout",
     "output_type": "stream",
     "text": [
      "ENter any one city\n",
      "Bangkok\n",
      "“I’d love to visit Bangkook more often”.\n"
     ]
    }
   ],
   "source": [
    "city=input(\"ENter any one city\\n\")\n",
    "if city == \"Bangkok\" or city ==\"bangkok\":\n",
    "    print('“I’d love to visit Bangkook more often”.')\n",
    "else:\n",
    "    print(\"No intrested city,,,only want to bangkok\")"
   ]
  },
  {
   "cell_type": "markdown",
   "metadata": {},
   "source": [
    "# Q15:"
   ]
  },
  {
   "cell_type": "raw",
   "metadata": {},
   "source": [
    "Write an input line to ask a user whether they want to take the red pill or the blue pill.\n",
    "\n",
    " If they write “red” then print “You stay in wonderland and see how far the rabbit hole goes”.\n",
    " \n",
    " Elif they write “blue” then print “You wake up in your bed and believe what you want to believe.”.\n",
    " \n",
    " Else print “That’s not an option Neo.”"
   ]
  },
  {
   "cell_type": "code",
   "execution_count": 2,
   "metadata": {},
   "outputs": [
    {
     "name": "stdout",
     "output_type": "stream",
     "text": [
      "Enter any One from this 'Red pill and Blue Pill'\n",
      "Red Pill\n",
      " “You stay in wonderland and see how far the rabbit hole goes”\n"
     ]
    }
   ],
   "source": [
    "User_stat=input(\"Enter any One from this 'Red pill and Blue Pill'\\n\")\n",
    "if User_stat==\"Red Pill\":\n",
    "    print(' “You stay in wonderland and see how far the rabbit hole goes”')\n",
    "elif User_stat==\"Blue Pill\":\n",
    "    print('“You wake up in your bed and believe what you want to believe.”')\n",
    "else:\n",
    "    print('“That’s not an option Neo.”')"
   ]
  },
  {
   "cell_type": "code",
   "execution_count": null,
   "metadata": {},
   "outputs": [],
   "source": []
  },
  {
   "cell_type": "code",
   "execution_count": null,
   "metadata": {},
   "outputs": [],
   "source": []
  },
  {
   "cell_type": "code",
   "execution_count": null,
   "metadata": {},
   "outputs": [],
   "source": []
  },
  {
   "cell_type": "markdown",
   "metadata": {},
   "source": []
  }
 ],
 "metadata": {
  "kernelspec": {
   "display_name": "Python 3",
   "language": "python",
   "name": "python3"
  },
  "language_info": {
   "codemirror_mode": {
    "name": "ipython",
    "version": 3
   },
   "file_extension": ".py",
   "mimetype": "text/x-python",
   "name": "python",
   "nbconvert_exporter": "python",
   "pygments_lexer": "ipython3",
   "version": "3.7.3"
  }
 },
 "nbformat": 4,
 "nbformat_minor": 2
}
