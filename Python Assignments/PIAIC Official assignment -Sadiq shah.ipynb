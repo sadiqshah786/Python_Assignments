{
 "cells": [
  {
   "cell_type": "markdown",
   "metadata": {},
   "source": [
    "## 1. Calculate Area of a Circle"
   ]
  },
  {
   "cell_type": "markdown",
   "metadata": {},
   "source": [
    "#### Write a Python program which accepts the radius of a circle from the user and compute the area.\n",
    "###### Program Console Sample Output 1:\n",
    "###### Input Radius: 0.5\n",
    "###### Area of Circle with radius 0.5 is 0.7853981634"
   ]
  },
  {
   "cell_type": "code",
   "execution_count": 63,
   "metadata": {
    "scrolled": true
   },
   "outputs": [
    {
     "name": "stdout",
     "output_type": "stream",
     "text": [
      "Enter the Radius of circle: 10\n",
      "The Area of Circle is :  314.2\n"
     ]
    }
   ],
   "source": [
    "r = float(input(\"Enter the Radius of circle: \"))\n",
    "pi=3.142 #its constant value:\n",
    "Area=pi*r*r\n",
    "print(\"The Area of Circle is : \",Area)"
   ]
  },
  {
   "cell_type": "markdown",
   "metadata": {},
   "source": [
    "## 2. Check Number either positive, negative or zero"
   ]
  },
  {
   "cell_type": "markdown",
   "metadata": {},
   "source": [
    "#### Write a Python program to check if a number is positive, negative or zero\n",
    "###### Program Console Sample Output 1:\n",
    "###### Enter Number: -1\n",
    "##### Negative Number Entered\n",
    "###### Program Console Sample Output 2:\n",
    "##### Integer: 3\n",
    "##### Positive Number Entered\n",
    "###### Program Console Sample Output 3:\n",
    "##### Integer: 0\n",
    "###### Zero Entered"
   ]
  },
  {
   "cell_type": "code",
   "execution_count": 13,
   "metadata": {},
   "outputs": [
    {
     "name": "stdout",
     "output_type": "stream",
     "text": [
      "Enter a Number: 100\n",
      "Positive Number Entered ! \n"
     ]
    }
   ],
   "source": [
    "num=int(input(\"Enter a Number: \"))\n",
    "if num>0:\n",
    "    print(\"Positive Number Entered ! \")\n",
    "elif num<0:\n",
    "    print(\"Negative Number Entered\")\n",
    "# elif num==0:\n",
    "#     print(\"Zero Entered\")\n",
    "else:\n",
    "    print(\"Zero Entered\")"
   ]
  },
  {
   "cell_type": "markdown",
   "metadata": {},
   "source": [
    "## 3. Divisibility Check of two numbers"
   ]
  },
  {
   "cell_type": "markdown",
   "metadata": {},
   "source": [
    "#### Write a Python program to check whether a number is completely divisible by another number. Accept two integer values form the user\n",
    "##### Program Console Sample Output 1:\n",
    "###### Enter numerator: 4\n",
    "###### Enter Denominator: 2\n",
    "##### Number 4 is Completely divisible by 2\n",
    "###### Program Console Sample Output 2:\n",
    "##### Enter numerator: 7\n",
    "\n",
    "##### Enter Denominator: 4\n",
    "###### Number 7 is not Completely divisible by 4"
   ]
  },
  {
   "cell_type": "code",
   "execution_count": 86,
   "metadata": {
    "scrolled": true
   },
   "outputs": [
    {
     "name": "stdout",
     "output_type": "stream",
     "text": [
      "Enter a Numerator: 987\n",
      "Enter a Denominator 4\n",
      "987 is not completely divisible by 4\n"
     ]
    }
   ],
   "source": [
    "num1=int(input(\"Enter a Numerator: \"))\n",
    "num2=int(input(\"Enter a Denominator \"))\n",
    "if num1%num2==0:\n",
    "    print(num1, \"is completely divisible by\",num2)\n",
    "else:\n",
    "    print(num1, \"is not completely divisible by\",num2)"
   ]
  },
  {
   "cell_type": "markdown",
   "metadata": {},
   "source": [
    "## 4. Calculate Volume of a sphere"
   ]
  },
  {
   "cell_type": "markdown",
   "metadata": {},
   "source": [
    "##### Write a Python program to get the volume of a sphere, please take the radius as input from user"
   ]
  },
  {
   "cell_type": "markdown",
   "metadata": {},
   "source": [
    "##### Program Console Output:\n",
    "##### Enter Radius of Sphere: 1\n",
    "###### Volume of the Sphere with Radius 1 is 4.18"
   ]
  },
  {
   "cell_type": "code",
   "execution_count": null,
   "metadata": {},
   "outputs": [],
   "source": [
    "# v = ⁴⁄₃πr³ fomula volume of the sphere...."
   ]
  },
  {
   "cell_type": "code",
   "execution_count": 64,
   "metadata": {},
   "outputs": [
    {
     "name": "stdout",
     "output_type": "stream",
     "text": [
      "Enter Radius of a Circle: 59\n",
      "The Volume of sphere is: 860401.091\n"
     ]
    }
   ],
   "source": [
    "r=float(input(\"Enter Radius of a Circle: \"))\n",
    "pi=3.142\n",
    "constant=4/3*pi  #4.189333333333333 constant vlaue:\n",
    "v_o_s=constant*r*r*r\n",
    "print(\"The Volume of sphere is:\",round(v_o_s,3))"
   ]
  },
  {
   "cell_type": "markdown",
   "metadata": {},
   "source": [
    "## 5. Copy string n times\n",
    "#### Write a Python program to get a string which is n (non-negative integer) copies of a given string.\n",
    "##### Program Console Output:\n",
    "##### Enter String: Hi\n",
    "###### How many copies of String you need: 4\n",
    "###### 4 Copies of Hi are HiHiHiHi"
   ]
  },
  {
   "cell_type": "code",
   "execution_count": 65,
   "metadata": {},
   "outputs": [
    {
     "name": "stdout",
     "output_type": "stream",
     "text": [
      "Enter a String,would you like to make a copy: PIAIC\n",
      "Enter a Number, How much time do you want to copy: 4\n",
      "Copied Strings is:  PIAICPIAICPIAICPIAIC\n"
     ]
    }
   ],
   "source": [
    "string=input(\"Enter a String,would you like to make a copy: \")\n",
    "num=int(input(\"Enter a Number, How much time do you want to copy: \"))\n",
    "print('Copied Strings is: ',string*num)"
   ]
  },
  {
   "cell_type": "markdown",
   "metadata": {},
   "source": [
    "## 6. Check if number is Even or Odd\n",
    "### Write a Python program to find whether a given number (accept from the user) is even or odd, print out an appropriate message to the user\n",
    "#### Program Console Output 1:\n",
    "##### Enter Number: 4\n",
    "###### 4 is Even\n",
    "#### Program Console Output 2:\n",
    "##### Enter Number: 9\n",
    "###### 9 is Odd"
   ]
  },
  {
   "cell_type": "code",
   "execution_count": 66,
   "metadata": {},
   "outputs": [
    {
     "name": "stdout",
     "output_type": "stream",
     "text": [
      "Enter a Number: 34\n",
      "34 is Even Number!\n"
     ]
    }
   ],
   "source": [
    "Num=int(input(\"Enter a Number: \"))\n",
    "if Num%2==0:\n",
    "    print(f\"{Num} is Even Number!\")\n",
    "else:\n",
    "    print(f\"{Num}Odd Numeber !\")"
   ]
  },
  {
   "cell_type": "markdown",
   "metadata": {},
   "source": [
    "## 7. Vowel Tester\n",
    "### Write a Python program to test whether a passed letter is a vowel or not\n",
    "#### Program Console Output 1:\n",
    "##### Enter a character: A\n",
    "###### Letter A is Vowel\n",
    "#### Program Console Output 2:\n",
    "##### Enter a character: e\n",
    "###### Letter e is Vowel\n",
    "#### Program Console Output 2:\n",
    "##### Enter a character: N\n",
    "###### Letter N is not Vowel"
   ]
  },
  {
   "cell_type": "code",
   "execution_count": 69,
   "metadata": {},
   "outputs": [
    {
     "name": "stdout",
     "output_type": "stream",
     "text": [
      "Enter an Alphabates: v\n",
      "Its is not Vowel\n"
     ]
    }
   ],
   "source": [
    "#1st Method:\n",
    "alph=input(\"Enter an Alphabates: \")\n",
    "if (alph== 'a'):\n",
    "    print( 'Letter a is vowel')\n",
    "elif(alph== 'A'):\n",
    "    print(\"Letter A is vowel\")\n",
    "elif(alph== 'e'):\n",
    "    print(\"Letter e is vowel\")\n",
    "elif(alph== 'E'):\n",
    "    print(\"Letter E is vowel\")\n",
    "elif(alph== 'i'):\n",
    "    print(\"Letter i is vowel\")\n",
    "elif(alph== 'I'):\n",
    "    print(\"Letter I is vowel\")\n",
    "elif(alph== 'o'):\n",
    "    print(\"Letter o is vowel\")\n",
    "elif(alph== 'O'):\n",
    "    print(\"Letter O is vowel\")\n",
    "elif(alph== 'u'):\n",
    "    print(\"Letter u is vowel\")\n",
    "elif(alph== 'U'):\n",
    "    print(\"Letter U is vowel\")\n",
    "else:\n",
    "    print(\"Its is not Vowel\")"
   ]
  },
  {
   "cell_type": "code",
   "execution_count": 59,
   "metadata": {},
   "outputs": [
    {
     "name": "stdout",
     "output_type": "stream",
     "text": [
      "Enter an Alphabates: A\n",
      "Letter a/A is vowel\n"
     ]
    }
   ],
   "source": [
    "# 2nd method\n",
    "alph=input(\"Enter an Alphabates: \")\n",
    "if (alph== 'a') or (alph=='A'):\n",
    "    print( 'Letter a/A is vowel')\n",
    "elif(alph== 'e') or (alph=='E'):\n",
    "    print(\"Letter e/E is vowel\")\n",
    "elif(alph== 'i') or (alph=='I'):\n",
    "    print(\"Letter i/I is vowel\")\n",
    "elif(alph== 'o') or (alph=='O'):\n",
    "    print(\"Letter o is vowel\")\n",
    "elif(alph== 'u') or (alph=='U'):\n",
    "    print(\"Letter u is vowel\")\n",
    "else:\n",
    "    print(\"Its is not Vowel\")"
   ]
  },
  {
   "cell_type": "markdown",
   "metadata": {},
   "source": [
    "## 8. Triangle area\n",
    "### Write a Python program that will accept the base and height of a triangle and compute the area\n",
    "###### Reference:\n",
    "https://www.mathgoodies.com/lessons/vol1/area_triangle"
   ]
  },
  {
   "cell_type": "code",
   "execution_count": null,
   "metadata": {},
   "outputs": [],
   "source": [
    "# A=1/2*b*h or A=b*h/2 formula of Area of Triangle:"
   ]
  },
  {
   "cell_type": "code",
   "execution_count": 73,
   "metadata": {
    "scrolled": true
   },
   "outputs": [
    {
     "name": "stdout",
     "output_type": "stream",
     "text": [
      "Enter a Base of The Triangle:  22\n",
      "Enter a Height of The Triangle: 22\n",
      "The Area of Triangle is: 242.0 cm^2\n"
     ]
    }
   ],
   "source": [
    "base=float(input(\"Enter a Base of The Triangle:  \"))\n",
    "height=float(input(\"Enter a Height of The Triangle: \"))\n",
    "A_o_t=(base*height)/2\n",
    "print(f\"The Area of Triangle is: {A_o_t} cm^2\")"
   ]
  },
  {
   "cell_type": "markdown",
   "metadata": {},
   "source": [
    "# 9. Calculate Interest Write a Python program to compute the future value of a specified principal amount, rate of interest, and a number of years\n",
    "#### Program Console Sample 1:\n",
    "##### Please enter principal amount: 10000\n",
    "###### Please Enter Rate of interest in %: 0.1\n",
    "###### Enter number of years for investment: 5\n",
    "###### After 5 years your principal amount 10000 over an interest rate of 0.1 % will be 16105.1\n",
    "\n"
   ]
  },
  {
   "cell_type": "raw",
   "metadata": {},
   "source": [
    "A = Total Accrued Amount (principal + interest)\n",
    "P = Principal Amount\n",
    "I = Interest Amount\n",
    "r = Rate of Interest per year in decimal; r = R/100\n",
    "R = Rate of Interest per year as a percent; R = r * 100 (valid formula)....\n",
    "t = Time Period involved in months or years"
   ]
  },
  {
   "cell_type": "code",
   "execution_count": 1,
   "metadata": {},
   "outputs": [
    {
     "name": "stdout",
     "output_type": "stream",
     "text": [
      "Enter Principle Amount: 10000\n",
      "Enter Rate of interest: 0.1\n",
      "Enter a time period in month or years: 5\n",
      "After 5 Years your principal amount 10000 Over an interest rate of 10.0 Will be 1610510000.0\n"
     ]
    }
   ],
   "source": [
    "p_amount=int(input(\"Enter Principle Amount: \"))\n",
    "rate=float(input(\"Enter Rate of interest: \"))\n",
    "rate = 0.1 * 100   \n",
    "time_period=int(input(\"Enter a time period in month or years: \"))\n",
    "\n",
    "Interest=p_amount * ((1+ (rate)) ** time_period)\n",
    "print(f\"After 5 Years your principal amount {p_amount} Over an interest rate of {rate} Will be {round(Interest,2)}\")\n"
   ]
  },
  {
   "cell_type": "markdown",
   "metadata": {},
   "source": [
    "# "
   ]
  },
  {
   "cell_type": "markdown",
   "metadata": {},
   "source": [
    "## 10. Euclidean distance\n",
    "### write a Python program to compute the distance between the points (x1, y1) and (x2, y2).\n",
    "#### Program Console Sample 1:\n",
    "###### Enter Co-ordinate for x1: 2\n",
    "###### Enter Co-ordinate for x2: 4\n",
    "###### Enter Co-ordinate for y1: 4\n",
    "###### Enter Co-ordinate for y2: 4\n",
    "###### Distance between points (2, 4) and (4, 4) is 2"
   ]
  },
  {
   "cell_type": "markdown",
   "metadata": {},
   "source": [
    "###### Reference:\n",
    "https://en.wikipedia.org/wiki/Euclidean_distance"
   ]
  },
  {
   "cell_type": "code",
   "execution_count": 18,
   "metadata": {},
   "outputs": [
    {
     "name": "stdout",
     "output_type": "stream",
     "text": [
      "Enter value of x1 34\n",
      "Enter value of x2 54\n",
      "Enter value of y1 44\n",
      "Enter value of y2 33\n",
      "The Distance between points: (34, 44) (54, 33) is 22.83\n"
     ]
    }
   ],
   "source": [
    "import math\n",
    "x1=int(input(\"Enter value of x1 \"))\n",
    "x2=int(input(\"Enter value of x2 \"))\n",
    "y1=int(input(\"Enter value of y1 \"))\n",
    "y2=int(input(\"Enter value of y2 \"))\n",
    "part=((x2-x1)*(x2-x1)) + ((y2-y1)*(y2-y1))\n",
    "Answer= math.sqrt(part)\n",
    "print(\"The Distance between points:\",(x1,y1), (x2,y2), \"is\",round(Answer,2))\n"
   ]
  },
  {
   "cell_type": "markdown",
   "metadata": {},
   "source": []
  },
  {
   "cell_type": "markdown",
   "metadata": {},
   "source": [
    "## 11. Feet to Centimeter Converter\n",
    "### Write a Python program to convert height in feet to centimetres.\n",
    "##### Program Console Sample 1:\n",
    "###### Enter Height in Feet: 5\n",
    "###### There are 152.4 Cm in 5 ft\n",
    "###### Reference:\n",
    "https://www.rapidtables.com/convert/length/feet-to-cm.html"
   ]
  },
  {
   "cell_type": "code",
   "execution_count": null,
   "metadata": {},
   "outputs": [],
   "source": [
    "# cm=feet*30.48\n",
    "# feet=cm/30.48"
   ]
  },
  {
   "cell_type": "code",
   "execution_count": 90,
   "metadata": {},
   "outputs": [
    {
     "name": "stdout",
     "output_type": "stream",
     "text": [
      "Enter a Height into Feets: 10\n",
      "There are 304.8 in  10 ft\n"
     ]
    }
   ],
   "source": [
    "height=int(input(\"Enter a Height into Feets: \"))\n",
    "cm=height*30.48\n",
    "print(\"There are\",cm,\"in \",height,'ft')"
   ]
  },
  {
   "cell_type": "markdown",
   "metadata": {},
   "source": [
    "## 12. BMI Calculator\n",
    "### Write a Python program to calculate body mass index\n",
    "##### Program Console Sample 1:\n",
    "###### Enter Height in Cm: 180\n",
    "###### Enter Weight in Kg: 75\n",
    "###### Your BMI is 23.15"
   ]
  },
  {
   "cell_type": "code",
   "execution_count": null,
   "metadata": {},
   "outputs": [],
   "source": [
    "# formula Body mass index = weight(kg)/hight^2(meter)"
   ]
  },
  {
   "cell_type": "code",
   "execution_count": 3,
   "metadata": {},
   "outputs": [
    {
     "name": "stdout",
     "output_type": "stream",
     "text": [
      "Enter a Height in CM: 180\n",
      "Enter a Weight in Kg: 75\n",
      "Your BMI is:  23.15\n"
     ]
    }
   ],
   "source": [
    "Height=int(input(\"Enter a Height in CM: \"))\n",
    "H=Height/100\n",
    "W=int(input(\"Enter a Weight in Kg: \"))\n",
    "b_m_i=W/(H*H)\n",
    "print(\"Your BMI is: \",round(b_m_i,2))"
   ]
  },
  {
   "cell_type": "markdown",
   "metadata": {},
   "source": [
    "## 13. Sum of n Positive Integers\n",
    "### Write a python program to sum of the first n positive integers\n",
    "#### Program Console Sample 1:\n",
    "###### Enter value of n: 5\n",
    "###### Sum of n Positive integers till 5 is 15"
   ]
  },
  {
   "cell_type": "code",
   "execution_count": 74,
   "metadata": {},
   "outputs": [
    {
     "name": "stdout",
     "output_type": "stream",
     "text": [
      "Please Enter any Number: 199\n",
      "The Sum of Natural Numbers from 1 to 199 =  19900\n"
     ]
    }
   ],
   "source": [
    "no = int(input(\"Please Enter any Number: \"))\n",
    "total = 0\n",
    "\n",
    "for value in range(1, no + 1):\n",
    "    total = total + value\n",
    "\n",
    "print(f\"The Sum of Natural Numbers from 1 to {no} =  {total}\")\n",
    "    "
   ]
  },
  {
   "cell_type": "markdown",
   "metadata": {},
   "source": [
    "## 14. Digits Sum of a Number\n",
    "### Write a Python program to calculate the sum of the digits in an integer\n",
    "#### Program Console Sample 1:\n",
    "##### Enter a number: 15\n",
    "###### Sum of 1 + 5 is 6\n",
    "#### Program Console Sample 2:\n",
    "##### Enter a number: 1234\n",
    "###### Sum of 1 + 2 + 3 + 4 is 10"
   ]
  },
  {
   "cell_type": "code",
   "execution_count": 4,
   "metadata": {},
   "outputs": [
    {
     "name": "stdout",
     "output_type": "stream",
     "text": [
      "Enter a Number lies between more than 2 digits : 4566\n",
      "The sum of 4566 is 21\n"
     ]
    }
   ],
   "source": [
    "total=0\n",
    "num=input(\"Enter a Number lies between more than 2 digits : \")\n",
    "for  i in range(0,len(num)): #len of number..\n",
    "    total=total+int(num[i])\n",
    "print(f\"The sum of {num} is {total}\")\n",
    "    "
   ]
  },
  {
   "cell_type": "code",
   "execution_count": null,
   "metadata": {},
   "outputs": [],
   "source": []
  },
  {
   "cell_type": "code",
   "execution_count": 3,
   "metadata": {},
   "outputs": [
    {
     "data": {
      "text/plain": [
       "2"
      ]
     },
     "execution_count": 3,
     "metadata": {},
     "output_type": "execute_result"
    }
   ],
   "source": []
  },
  {
   "cell_type": "code",
   "execution_count": null,
   "metadata": {},
   "outputs": [],
   "source": []
  }
 ],
 "metadata": {
  "kernelspec": {
   "display_name": "Python 3",
   "language": "python",
   "name": "python3"
  },
  "language_info": {
   "codemirror_mode": {
    "name": "ipython",
    "version": 3
   },
   "file_extension": ".py",
   "mimetype": "text/x-python",
   "name": "python",
   "nbconvert_exporter": "python",
   "pygments_lexer": "ipython3",
   "version": "3.7.3"
  }
 },
 "nbformat": 4,
 "nbformat_minor": 2
}
